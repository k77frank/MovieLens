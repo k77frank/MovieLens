{
 "cells": [
  {
   "cell_type": "code",
   "execution_count": 1,
   "metadata": {
    "collapsed": true,
    "deletable": true,
    "editable": true
   },
   "outputs": [],
   "source": [
    "import numpy as np\n",
    "import matplotlib.pyplot as plt"
   ]
  },
  {
   "cell_type": "code",
   "execution_count": 2,
   "metadata": {
    "collapsed": false,
    "deletable": true,
    "editable": true
   },
   "outputs": [],
   "source": [
    "Y_train = np.loadtxt('data/train.txt').astype(int)\n",
    "Y_test = np.loadtxt('data/test.txt').astype(int)\n",
    "ratings = Y_train[:, 2:]\n",
    "mean_rating = np.mean(ratings)\n"
   ]
  },
  {
   "cell_type": "code",
   "execution_count": 3,
   "metadata": {
    "collapsed": false,
    "deletable": true,
    "editable": true
   },
   "outputs": [],
   "source": [
    "# Solution set for CS 155 Set 6, 2016/2017\n",
    "# Authors: Fabian Boemer, Sid Murching, Suraj Nair\n",
    "\n",
    "import numpy as np\n",
    "\n",
    "def grad_U(Ui, Yij, Vj, reg, eta):\n",
    "    \"\"\"\n",
    "    Takes as input Ui (the ith row of U), a training point Yij, the column\n",
    "    vector Vj (jth column of V^T), reg (the regularization parameter lambda),\n",
    "    and eta (the learning rate).\n",
    "\n",
    "    Returns the gradient of the regularized loss function with\n",
    "    respect to Ui multiplied by eta.\n",
    "    \"\"\"\n",
    "    return (1-reg*eta)*Ui + eta * Vj * (Yij - np.dot(Ui,Vj))     \n",
    "\n",
    "def grad_V(Vj, Yij, Ui, reg, eta):\n",
    "    \"\"\"\n",
    "    Takes as input the column vector Vj (jth column of V^T), a training point Yij,\n",
    "    Ui (the ith row of U), reg (the regularization parameter lambda),\n",
    "    and eta (the learning rate).\n",
    "\n",
    "    Returns the gradient of the regularized loss function with\n",
    "    respect to Vj multiplied by eta.\n",
    "    \"\"\"\n",
    "    return (1-reg*eta)*Vj + eta * Ui * (Yij - np.dot(Ui,Vj))\n",
    "\n",
    "def get_err(U, V, Y, b1, b2, reg=0.0):\n",
    "    \"\"\"\n",
    "    Takes as input a matrix Y of triples (i, j, Y_ij) where i is the index of a user,\n",
    "    j is the index of a movie, and Y_ij is user i's rating of movie j and\n",
    "    user/movie matrices U and V.\n",
    "\n",
    "    Returns the mean regularized squared-error of predictions made by\n",
    "    estimating Y_{ij} as the dot product of the ith row of U and the jth column of V^T.\n",
    "    \"\"\"\n",
    "    # Compute mean squared error on each data point in Y; include\n",
    "    # regularization penalty in error calculations.\n",
    "    # We first compute the total squared squared error\n",
    "    err = 0.0\n",
    "    for (i,j,Yij) in Y:\n",
    "        err += 0.5 *(Yij - ((np.dot(U[i-1], V[:,j-1])) + mean_rating + b1[i-1] + b2[j-1]))**2\n",
    "    # Add error penalty due to regularization if regularization\n",
    "    # parameter is nonzero\n",
    "    if reg != 0:\n",
    "        U_frobenius_norm = np.linalg.norm(U, ord='fro')\n",
    "        V_frobenius_norm = np.linalg.norm(V, ord='fro')\n",
    "        err += 0.5 * reg * (U_frobenius_norm ** 2)\n",
    "        err += 0.5 * reg * (V_frobenius_norm ** 2)\n",
    "    # Return the mean of the regularized error\n",
    "    return err / float(len(Y))\n",
    "\n",
    "def get_single_err(U, V, i, j, Yij, b1, b2, reg=0.0):\n",
    "    prediction = mean_rating + b1[i-1] + b2[j-1] + (np.dot(U[i-1], V[:,j-1]))\n",
    "    error = Yij - prediction\n",
    "    return error\n",
    "\n",
    "def train_model(M, N, K, eta, reg, Y, eps=0.0001, max_epochs=300):\n",
    "    \"\"\"\n",
    "    Given a training data matrix Y containing rows (i, j, Y_ij)\n",
    "    where Y_ij is user i's rating on movie j, learns an\n",
    "    M x K matrix U and N x K matrix V such that rating Y_ij is approximated\n",
    "    by (UV)_ij.\n",
    "\n",
    "    Uses a learning rate of <eta> and regularization of <reg>. Stops after\n",
    "    <max_epochs> epochs, or once the magnitude of the decrease in regularized\n",
    "    MSE between epochs is smaller than a fraction <eps> of the decrease in\n",
    "    MSE after the first epoch.\n",
    "\n",
    "    Returns a tuple (U, V, err) consisting of U, V, and the unregularized MSE\n",
    "    of the model.\n",
    "    \"\"\"\n",
    "    # Initialize U, V  \n",
    "    U = np.random.random((M,K)) - 0.5\n",
    "    V = np.random.random((K,N)) - 0.5\n",
    "    bias_u = np.zeros(M)\n",
    "    bias_v = np.zeros(N)\n",
    "    size = Y.shape[0]\n",
    "    delta = None\n",
    "    indices = np.arange(size)    \n",
    "    for epoch in range(max_epochs):\n",
    "        # Run an epoch of SGD\n",
    "        before_E_in = get_err(U, V, Y, bias_u, bias_v, reg)\n",
    "        np.random.shuffle(indices)\n",
    "        for ind in indices:\n",
    "            (i,j, Yij) = Y[ind]\n",
    "            # Update U[i], V[j]\n",
    "            error = get_single_err(U, V, i, j, Yij, bias_u, bias_v, reg)\n",
    "            bias_u[i-1] += eta * (error - reg * bias_u[i-1])\n",
    "            bias_v[j-1] += eta * (error - reg * bias_v[j-1])\n",
    "            U[i-1] = grad_U(U[i-1], Yij, V[:,j-1], reg, eta)\n",
    "            V[:,j-1] = grad_V(V[:,j-1], Yij, U[i-1], reg, eta);\n",
    "        # At end of epoch, print E_in\n",
    "        E_in = get_err(U, V, Y, bias_u, bias_v, reg)\n",
    "        print(\"Epoch %s, E_in (regularized MSE): %s\"%(epoch + 1, E_in))\n",
    "\n",
    "        # Compute change in E_in for first epoch\n",
    "        if epoch == 0:\n",
    "            delta = before_E_in - E_in\n",
    "\n",
    "        # If E_in doesn't decrease by some fraction <eps>\n",
    "        # of the initial decrease in E_in, stop early \n",
    "        elif before_E_in - E_in < eps * delta:\n",
    "            break\n",
    "    return (U, V, get_err(U, V, Y, bias_u, bias_v, reg), bias_u, bias_v)"
   ]
  },
  {
   "cell_type": "code",
   "execution_count": 4,
   "metadata": {
    "collapsed": false,
    "deletable": true,
    "editable": true
   },
   "outputs": [
    {
     "name": "stdout",
     "output_type": "stream",
     "text": [
      "Factorizing with  943  users,  1682  movies.\n"
     ]
    }
   ],
   "source": [
    "M = max(max(Y_train[:,0]), max(Y_test[:,0])).astype(int) # users\n",
    "N = max(max(Y_train[:,1]), max(Y_test[:,1])).astype(int) # movies\n",
    "print(\"Factorizing with \", M, \" users, \", N, \" movies.\")\n",
    "K = 20 \n",
    "regs = [10**-4, 10**-3, 10**-2, 10**-1, 1]\n",
    "eta = 0.03 # learning rate\n",
    "E_in = []\n",
    "E_out = []"
   ]
  },
  {
   "cell_type": "code",
   "execution_count": 5,
   "metadata": {
    "collapsed": false,
    "deletable": true,
    "editable": true
   },
   "outputs": [
    {
     "name": "stdout",
     "output_type": "stream",
     "text": [
      "Training model with M = 943, N = 1682, k = 20, eta = 0.03, reg = 0.0001\n",
      "Epoch 1, E_in (regularized MSE): 0.681044538554\n",
      "Epoch 2, E_in (regularized MSE): 0.473133755332\n",
      "Epoch 3, E_in (regularized MSE): 0.398142314994\n",
      "Epoch 4, E_in (regularized MSE): 0.357425992991\n",
      "Epoch 5, E_in (regularized MSE): 0.335046461193\n",
      "Epoch 6, E_in (regularized MSE): 0.312369498923\n",
      "Epoch 7, E_in (regularized MSE): 0.301971128048\n",
      "Epoch 8, E_in (regularized MSE): 0.292687259292\n",
      "Epoch 9, E_in (regularized MSE): 0.28604247541\n",
      "Epoch 10, E_in (regularized MSE): 0.280705425209\n",
      "Epoch 11, E_in (regularized MSE): 0.273196695759\n",
      "Epoch 12, E_in (regularized MSE): 0.271830982784\n",
      "Epoch 13, E_in (regularized MSE): 0.265811011973\n",
      "Epoch 14, E_in (regularized MSE): 0.266230049053\n",
      "Training model with M = 943, N = 1682, k = 20, eta = 0.03, reg = 0.001\n",
      "Epoch 1, E_in (regularized MSE): 0.684236502636\n",
      "Epoch 2, E_in (regularized MSE): 0.469031674181\n",
      "Epoch 3, E_in (regularized MSE): 0.394761408657\n",
      "Epoch 4, E_in (regularized MSE): 0.363886453801\n",
      "Epoch 5, E_in (regularized MSE): 0.337075992617\n",
      "Epoch 6, E_in (regularized MSE): 0.316204152399\n",
      "Epoch 7, E_in (regularized MSE): 0.307047057913\n",
      "Epoch 8, E_in (regularized MSE): 0.291933648457\n",
      "Epoch 9, E_in (regularized MSE): 0.284915400393\n",
      "Epoch 10, E_in (regularized MSE): 0.281970395637\n",
      "Epoch 11, E_in (regularized MSE): 0.272953128337\n",
      "Epoch 12, E_in (regularized MSE): 0.267165464778\n",
      "Epoch 13, E_in (regularized MSE): 0.260822794281\n",
      "Epoch 14, E_in (regularized MSE): 0.262937783387\n",
      "Training model with M = 943, N = 1682, k = 20, eta = 0.03, reg = 0.01\n",
      "Epoch 1, E_in (regularized MSE): 0.675637599072\n",
      "Epoch 2, E_in (regularized MSE): 0.461474272624\n",
      "Epoch 3, E_in (regularized MSE): 0.390846998829\n",
      "Epoch 4, E_in (regularized MSE): 0.350737594084\n",
      "Epoch 5, E_in (regularized MSE): 0.328208815706\n",
      "Epoch 6, E_in (regularized MSE): 0.31069188905\n",
      "Epoch 7, E_in (regularized MSE): 0.2976347998\n",
      "Epoch 8, E_in (regularized MSE): 0.281083285616\n",
      "Epoch 9, E_in (regularized MSE): 0.269632239322\n",
      "Epoch 10, E_in (regularized MSE): 0.263082392117\n",
      "Epoch 11, E_in (regularized MSE): 0.254365607149\n",
      "Epoch 12, E_in (regularized MSE): 0.245771195479\n",
      "Epoch 13, E_in (regularized MSE): 0.241929405741\n",
      "Epoch 14, E_in (regularized MSE): 0.23265815154\n",
      "Epoch 15, E_in (regularized MSE): 0.233260597074\n",
      "Training model with M = 943, N = 1682, k = 20, eta = 0.03, reg = 0.1\n",
      "Epoch 1, E_in (regularized MSE): 0.653465329325\n",
      "Epoch 2, E_in (regularized MSE): 0.511884272779\n",
      "Epoch 3, E_in (regularized MSE): 0.457742458698\n",
      "Epoch 4, E_in (regularized MSE): 0.435884097359\n",
      "Epoch 5, E_in (regularized MSE): 0.416705483905\n",
      "Epoch 6, E_in (regularized MSE): 0.405415712362\n",
      "Epoch 7, E_in (regularized MSE): 0.398885139652\n",
      "Epoch 8, E_in (regularized MSE): 0.386339138311\n",
      "Epoch 9, E_in (regularized MSE): 0.37504911669\n",
      "Epoch 10, E_in (regularized MSE): 0.371291008641\n",
      "Epoch 11, E_in (regularized MSE): 0.361496445095\n",
      "Epoch 12, E_in (regularized MSE): 0.354799420236\n",
      "Epoch 13, E_in (regularized MSE): 0.353229250836\n",
      "Epoch 14, E_in (regularized MSE): 0.351083911217\n",
      "Epoch 15, E_in (regularized MSE): 0.344581283427\n",
      "Epoch 16, E_in (regularized MSE): 0.344401110771\n",
      "Epoch 17, E_in (regularized MSE): 0.338069709163\n",
      "Epoch 18, E_in (regularized MSE): 0.329795730953\n",
      "Epoch 19, E_in (regularized MSE): 0.33459368444\n",
      "Training model with M = 943, N = 1682, k = 20, eta = 0.03, reg = 1\n",
      "Epoch 1, E_in (regularized MSE): 0.934535581008\n",
      "Epoch 2, E_in (regularized MSE): 0.877630524824\n",
      "Epoch 3, E_in (regularized MSE): 0.848894119912\n",
      "Epoch 4, E_in (regularized MSE): 0.852470234655\n"
     ]
    }
   ],
   "source": [
    "for reg in regs:\n",
    "\n",
    "    print(\"Training model with M = %s, N = %s, k = %s, eta = %s, reg = %s\"%(M, N, K, eta, reg))\n",
    "    U,V, e_in, bias_u, bias_v = train_model(M, N, K, eta, reg, Y_train)\n",
    "    E_in.append(e_in)\n",
    "    eout = get_err(U, V, Y_test, bias_u, bias_v)\n",
    "    E_out.append(eout)"
   ]
  },
  {
   "cell_type": "code",
   "execution_count": 6,
   "metadata": {
    "collapsed": false,
    "deletable": true,
    "editable": true
   },
   "outputs": [
    {
     "data": {
      "image/png": "[encoded data removed]",
      "text/plain": [
       "<matplotlib.figure.Figure at 0x119cfbda0>"
      ]
     },
     "metadata": {},
     "output_type": "display_data"
    }
   ],
   "source": [
    "plt.plot(regs, E_in, label='$E_{in}$')\n",
    "plt.plot(regs, E_out, label='$E_{out}$')\n",
    "plt.xscale('log')\n",
    "plt.title('Error vs. reg')\n",
    "plt.xlabel('reg')\n",
    "plt.ylabel('Error')\n",
    "plt.legend()\n",
    "plt.show()"
   ]
  },
  {
   "cell_type": "code",
   "execution_count": 8,
   "metadata": {
    "collapsed": false,
    "deletable": true,
    "editable": true
   },
   "outputs": [
    {
     "name": "stdout",
     "output_type": "stream",
     "text": [
      "Training model with M = 943, N = 1682, k = 20, eta = 0.03, reg = 0.06\n",
      "Epoch 1, E_in (regularized MSE): 0.644817498631\n",
      "Epoch 2, E_in (regularized MSE): 0.474062680581\n",
      "Epoch 3, E_in (regularized MSE): 0.422321037169\n",
      "Epoch 4, E_in (regularized MSE): 0.387543288757\n",
      "Epoch 5, E_in (regularized MSE): 0.364807745538\n",
      "Epoch 6, E_in (regularized MSE): 0.346975245304\n",
      "Epoch 7, E_in (regularized MSE): 0.337438702365\n",
      "Epoch 8, E_in (regularized MSE): 0.327590162105\n",
      "Epoch 9, E_in (regularized MSE): 0.309778538723\n",
      "Epoch 10, E_in (regularized MSE): 0.308288017873\n",
      "Epoch 11, E_in (regularized MSE): 0.296032505587\n",
      "Epoch 12, E_in (regularized MSE): 0.286990272623\n",
      "Epoch 13, E_in (regularized MSE): 0.284059988341\n",
      "Epoch 14, E_in (regularized MSE): 0.277846045543\n",
      "Epoch 15, E_in (regularized MSE): 0.277285833299\n",
      "Epoch 16, E_in (regularized MSE): 0.271387829692\n",
      "Epoch 17, E_in (regularized MSE): 0.270148264326\n",
      "Epoch 18, E_in (regularized MSE): 0.26616185259\n",
      "Epoch 19, E_in (regularized MSE): 0.26108357859\n",
      "Epoch 20, E_in (regularized MSE): 0.261525002542\n",
      "Training model with M = 943, N = 1682, k = 20, eta = 0.03, reg = 0.08\n",
      "Epoch 1, E_in (regularized MSE): 0.64688675997\n",
      "Epoch 2, E_in (regularized MSE): 0.484590203247\n",
      "Epoch 3, E_in (regularized MSE): 0.43031647103\n",
      "Epoch 4, E_in (regularized MSE): 0.406928575964\n",
      "Epoch 5, E_in (regularized MSE): 0.394828097691\n",
      "Epoch 6, E_in (regularized MSE): 0.371726721512\n",
      "Epoch 7, E_in (regularized MSE): 0.362318435573\n",
      "Epoch 8, E_in (regularized MSE): 0.350550853485\n",
      "Epoch 9, E_in (regularized MSE): 0.343703980149\n",
      "Epoch 10, E_in (regularized MSE): 0.332836566881\n",
      "Epoch 11, E_in (regularized MSE): 0.323260273076\n",
      "Epoch 12, E_in (regularized MSE): 0.325189874119\n",
      "Training model with M = 943, N = 1682, k = 20, eta = 0.03, reg = 0.1\n",
      "Epoch 1, E_in (regularized MSE): 0.653672334865\n",
      "Epoch 2, E_in (regularized MSE): 0.505588752198\n",
      "Epoch 3, E_in (regularized MSE): 0.459631456919\n",
      "Epoch 4, E_in (regularized MSE): 0.433457055432\n",
      "Epoch 5, E_in (regularized MSE): 0.418404942999\n",
      "Epoch 6, E_in (regularized MSE): 0.408642118971\n",
      "Epoch 7, E_in (regularized MSE): 0.387423664802\n",
      "Epoch 8, E_in (regularized MSE): 0.380052327963\n",
      "Epoch 9, E_in (regularized MSE): 0.372760057523\n",
      "Epoch 10, E_in (regularized MSE): 0.366689856226\n",
      "Epoch 11, E_in (regularized MSE): 0.364289472206\n",
      "Epoch 12, E_in (regularized MSE): 0.359381758267\n",
      "Epoch 13, E_in (regularized MSE): 0.353162073656\n",
      "Epoch 14, E_in (regularized MSE): 0.350633519712\n",
      "Epoch 15, E_in (regularized MSE): 0.342534632684\n",
      "Epoch 16, E_in (regularized MSE): 0.342174291657\n",
      "Epoch 17, E_in (regularized MSE): 0.335146318645\n",
      "Epoch 18, E_in (regularized MSE): 0.330015106834\n",
      "Epoch 19, E_in (regularized MSE): 0.330422055016\n",
      "Training model with M = 943, N = 1682, k = 20, eta = 0.03, reg = 0.12\n",
      "Epoch 1, E_in (regularized MSE): 0.642457675835\n",
      "Epoch 2, E_in (regularized MSE): 0.513497710536\n",
      "Epoch 3, E_in (regularized MSE): 0.475408815937\n",
      "Epoch 4, E_in (regularized MSE): 0.449686372834\n",
      "Epoch 5, E_in (regularized MSE): 0.443774377827\n",
      "Epoch 6, E_in (regularized MSE): 0.424738688376\n",
      "Epoch 7, E_in (regularized MSE): 0.417415958961\n",
      "Epoch 8, E_in (regularized MSE): 0.411951208202\n",
      "Epoch 9, E_in (regularized MSE): 0.407181907798\n",
      "Epoch 10, E_in (regularized MSE): 0.401489713767\n",
      "Epoch 11, E_in (regularized MSE): 0.39398630972\n",
      "Epoch 12, E_in (regularized MSE): 0.390127990345\n",
      "Epoch 13, E_in (regularized MSE): 0.390772729581\n",
      "Training model with M = 943, N = 1682, k = 20, eta = 0.03, reg = 0.14\n",
      "Epoch 1, E_in (regularized MSE): 0.66234229519\n",
      "Epoch 2, E_in (regularized MSE): 0.526267314224\n",
      "Epoch 3, E_in (regularized MSE): 0.4832837273\n",
      "Epoch 4, E_in (regularized MSE): 0.474116784488\n",
      "Epoch 5, E_in (regularized MSE): 0.457344906036\n",
      "Epoch 6, E_in (regularized MSE): 0.455398831383\n",
      "Epoch 7, E_in (regularized MSE): 0.445629488859\n",
      "Epoch 8, E_in (regularized MSE): 0.439427807553\n",
      "Epoch 9, E_in (regularized MSE): 0.432965252524\n",
      "Epoch 10, E_in (regularized MSE): 0.439346589642\n"
     ]
    }
   ],
   "source": [
    "regs = [0.06, 0.08, 0.1, 0.12, 0.14]\n",
    "E_in2 = []\n",
    "E_out2 = []\n",
    "for reg in regs:\n",
    "\n",
    "    print(\"Training model with M = %s, N = %s, k = %s, eta = %s, reg = %s\"%(M, N, K, eta, reg))\n",
    "    U,V, e_in, bias_u, bias_v = train_model(M, N, K, eta, reg, Y_train)\n",
    "    E_in2.append(e_in)\n",
    "    eout = get_err(U, V, Y_test, bias_u, bias_v)\n",
    "    E_out2.append(eout)"
   ]
  },
  {
   "cell_type": "code",
   "execution_count": 9,
   "metadata": {
    "collapsed": false
   },
   "outputs": [
    {
     "data": {
      "image/png": "[encoded data removed]",
      "text/plain": [
       "<matplotlib.figure.Figure at 0x118c63a90>"
      ]
     },
     "metadata": {},
     "output_type": "display_data"
    }
   ],
   "source": [
    "plt.plot(regs, E_in2, label='$E_{in}$')\n",
    "plt.plot(regs, E_out2, label='$E_{out}$')\n",
    "plt.title('Error vs. reg')\n",
    "plt.xlabel('reg')\n",
    "plt.ylabel('Error')\n",
    "plt.legend()\n",
    "plt.show()"
   ]
  },
  {
   "cell_type": "code",
   "execution_count": 10,
   "metadata": {
    "collapsed": false
   },
   "outputs": [
    {
     "name": "stdout",
     "output_type": "stream",
     "text": [
      "Training model with M = 943, N = 1682, k = 20, eta = 0.03, reg = 0.1\n",
      "Epoch 1, E_in (regularized MSE): 0.652524905946\n",
      "Epoch 2, E_in (regularized MSE): 0.502977272414\n",
      "Epoch 3, E_in (regularized MSE): 0.457859026122\n",
      "Epoch 4, E_in (regularized MSE): 0.433936132985\n",
      "Epoch 5, E_in (regularized MSE): 0.415986583204\n",
      "Epoch 6, E_in (regularized MSE): 0.399896651848\n",
      "Epoch 7, E_in (regularized MSE): 0.394483562205\n",
      "Epoch 8, E_in (regularized MSE): 0.380853226916\n",
      "Epoch 9, E_in (regularized MSE): 0.372822184087\n",
      "Epoch 10, E_in (regularized MSE): 0.371426220946\n",
      "Epoch 11, E_in (regularized MSE): 0.361743162415\n",
      "Epoch 12, E_in (regularized MSE): 0.351413051979\n",
      "Epoch 13, E_in (regularized MSE): 0.3530717603\n",
      "Training model with M = 943, N = 1682, k = 20, eta = 0.03, reg = 0.1\n",
      "Epoch 1, E_in (regularized MSE): 0.649782204294\n",
      "Epoch 2, E_in (regularized MSE): 0.500730749165\n",
      "Epoch 3, E_in (regularized MSE): 0.454607730847\n",
      "Epoch 4, E_in (regularized MSE): 0.430505364694\n",
      "Epoch 5, E_in (regularized MSE): 0.411024221045\n",
      "Epoch 6, E_in (regularized MSE): 0.399498032726\n",
      "Epoch 7, E_in (regularized MSE): 0.391621817472\n",
      "Epoch 8, E_in (regularized MSE): 0.377841840442\n",
      "Epoch 9, E_in (regularized MSE): 0.375129567244\n",
      "Epoch 10, E_in (regularized MSE): 0.361952500617\n",
      "Epoch 11, E_in (regularized MSE): 0.361436512497\n",
      "Epoch 12, E_in (regularized MSE): 0.35512578728\n",
      "Epoch 13, E_in (regularized MSE): 0.352365324823\n",
      "Epoch 14, E_in (regularized MSE): 0.343374162486\n",
      "Epoch 15, E_in (regularized MSE): 0.348915286667\n",
      "Training model with M = 943, N = 1682, k = 20, eta = 0.03, reg = 0.1\n",
      "Epoch 1, E_in (regularized MSE): 0.654872828523\n",
      "Epoch 2, E_in (regularized MSE): 0.503838872888\n",
      "Epoch 3, E_in (regularized MSE): 0.456200536523\n",
      "Epoch 4, E_in (regularized MSE): 0.439206373306\n",
      "Epoch 5, E_in (regularized MSE): 0.41722105948\n",
      "Epoch 6, E_in (regularized MSE): 0.409413690968\n",
      "Epoch 7, E_in (regularized MSE): 0.396154962978\n",
      "Epoch 8, E_in (regularized MSE): 0.38249631401\n",
      "Epoch 9, E_in (regularized MSE): 0.379950030504\n",
      "Epoch 10, E_in (regularized MSE): 0.371873188947\n",
      "Epoch 11, E_in (regularized MSE): 0.358739496504\n",
      "Epoch 12, E_in (regularized MSE): 0.360067100222\n",
      "Training model with M = 943, N = 1682, k = 20, eta = 0.03, reg = 0.1\n",
      "Epoch 1, E_in (regularized MSE): 0.653331468626\n",
      "Epoch 2, E_in (regularized MSE): 0.505328377779\n",
      "Epoch 3, E_in (regularized MSE): 0.452618973568\n",
      "Epoch 4, E_in (regularized MSE): 0.434498104222\n",
      "Epoch 5, E_in (regularized MSE): 0.414575125888\n",
      "Epoch 6, E_in (regularized MSE): 0.407007966693\n",
      "Epoch 7, E_in (regularized MSE): 0.388411434161\n",
      "Epoch 8, E_in (regularized MSE): 0.383500043756\n",
      "Epoch 9, E_in (regularized MSE): 0.374000880416\n",
      "Epoch 10, E_in (regularized MSE): 0.372363655974\n",
      "Epoch 11, E_in (regularized MSE): 0.359180652206\n",
      "Epoch 12, E_in (regularized MSE): 0.355444441453\n",
      "Epoch 13, E_in (regularized MSE): 0.349609403121\n",
      "Epoch 14, E_in (regularized MSE): 0.344330141616\n",
      "Epoch 15, E_in (regularized MSE): 0.340796874502\n",
      "Epoch 16, E_in (regularized MSE): 0.342312094697\n",
      "Training model with M = 943, N = 1682, k = 20, eta = 0.03, reg = 0.1\n",
      "Epoch 1, E_in (regularized MSE): 0.648428647212\n",
      "Epoch 2, E_in (regularized MSE): 0.496907858222\n",
      "Epoch 3, E_in (regularized MSE): 0.448636651849\n",
      "Epoch 4, E_in (regularized MSE): 0.425440601747\n",
      "Epoch 5, E_in (regularized MSE): 0.409960661858\n",
      "Epoch 6, E_in (regularized MSE): 0.3896896672\n",
      "Epoch 7, E_in (regularized MSE): 0.384695024349\n",
      "Training model with M = 943, N = 1682, k = 20, eta = 0.03, reg = 0.1\n",
      "Epoch 1, E_in (regularized MSE): 0.648296558068\n",
      "Epoch 2, E_in (regularized MSE): 0.499398471056\n",
      "Epoch 3, E_in (regularized MSE): 0.455123687915\n"
     ]
    }
   ],
   "source": [
    "eps = [10**-5, 10**-4, 10**-3, 10**-2, 10**-1, 1]\n",
    "reg = 0.1\n",
    "E_in3 = []\n",
    "E_out3 = []\n",
    "for ep in eps:\n",
    "\n",
    "    print(\"Training model with M = %s, N = %s, k = %s, eta = %s, reg = %s\"%(M, N, K, eta, reg))\n",
    "    U,V, e_in, bias_u, bias_v = train_model(M, N, K, eta, reg, Y_train, ep)\n",
    "    E_in3.append(e_in)\n",
    "    eout = get_err(U, V, Y_test, bias_u, bias_v)\n",
    "    E_out3.append(eout)"
   ]
  },
  {
   "cell_type": "code",
   "execution_count": 12,
   "metadata": {
    "collapsed": false
   },
   "outputs": [
    {
     "data": {
      "image/png": "[encoded data removed]",
      "text/plain": [
       "<matplotlib.figure.Figure at 0x118b01908>"
      ]
     },
     "metadata": {},
     "output_type": "display_data"
    }
   ],
   "source": [
    "plt.plot(eps, E_in3, label='$E_{in}$')\n",
    "plt.plot(eps, E_out3, label='$E_{out}$')\n",
    "plt.xscale('log')\n",
    "plt.title('Error vs. eps in train_model')\n",
    "plt.xlabel('eps')\n",
    "plt.ylabel('Error')\n",
    "plt.legend()\n",
    "plt.show()"
   ]
  },
  {
   "cell_type": "code",
   "execution_count": null,
   "metadata": {
    "collapsed": true
   },
   "outputs": [],
   "source": []
  }
 ],
 "metadata": {
  "kernelspec": {
   "display_name": "Python 3",
   "language": "python",
   "name": "python3"
  },
  "language_info": {
   "codemirror_mode": {
    "name": "ipython",
    "version": 3
   },
   "file_extension": ".py",
   "mimetype": "text/x-python",
   "name": "python",
   "nbconvert_exporter": "python",
   "pygments_lexer": "ipython3",
   "version": "3.5.2"
  }
 },
 "nbformat": 4,
 "nbformat_minor": 2
}
