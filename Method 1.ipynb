{
 "cells": [
  {
   "cell_type": "code",
   "execution_count": 1,
   "metadata": {
    "collapsed": false,
    "deletable": true,
    "editable": true
   },
   "outputs": [],
   "source": [
    "import numpy as np\n",
    "import matplotlib.pyplot as plt"
   ]
  },
  {
   "cell_type": "code",
   "execution_count": 2,
   "metadata": {
    "collapsed": true,
    "deletable": true,
    "editable": true
   },
   "outputs": [],
   "source": [
    "Y_train = np.loadtxt('data/train.txt').astype(int)\n",
    "Y_test = np.loadtxt('data/test.txt').astype(int)"
   ]
  },
  {
   "cell_type": "code",
   "execution_count": 3,
   "metadata": {
    "collapsed": true,
    "deletable": true,
    "editable": true
   },
   "outputs": [],
   "source": [
    "# Solution set for CS 155 Set 6, 2016/2017\n",
    "# Authors: Fabian Boemer, Sid Murching, Suraj Nair\n",
    "\n",
    "import numpy as np\n",
    "\n",
    "def grad_U(Ui, Yij, Vj, reg, eta):\n",
    "    \"\"\"\n",
    "    Takes as input Ui (the ith row of U), a training point Yij, the column\n",
    "    vector Vj (jth column of V^T), reg (the regularization parameter lambda),\n",
    "    and eta (the learning rate).\n",
    "\n",
    "    Returns the gradient of the regularized loss function with\n",
    "    respect to Ui multiplied by eta.\n",
    "    \"\"\"\n",
    "    return (1-reg*eta)*Ui + eta * Vj * (Yij - np.dot(Ui,Vj))     \n",
    "\n",
    "def grad_V(Vj, Yij, Ui, reg, eta):\n",
    "    \"\"\"\n",
    "    Takes as input the column vector Vj (jth column of V^T), a training point Yij,\n",
    "    Ui (the ith row of U), reg (the regularization parameter lambda),\n",
    "    and eta (the learning rate).\n",
    "\n",
    "    Returns the gradient of the regularized loss function with\n",
    "    respect to Vj multiplied by eta.\n",
    "    \"\"\"\n",
    "    return (1-reg*eta)*Vj + eta * Ui * (Yij - np.dot(Ui,Vj))\n",
    "\n",
    "def get_err(U, V, Y, reg=0.0):\n",
    "    \"\"\"\n",
    "    Takes as input a matrix Y of triples (i, j, Y_ij) where i is the index of a user,\n",
    "    j is the index of a movie, and Y_ij is user i's rating of movie j and\n",
    "    user/movie matrices U and V.\n",
    "\n",
    "    Returns the mean regularized squared-error of predictions made by\n",
    "    estimating Y_{ij} as the dot product of the ith row of U and the jth column of V^T.\n",
    "    \"\"\"\n",
    "    # Compute mean squared error on each data point in Y; include\n",
    "    # regularization penalty in error calculations.\n",
    "    # We first compute the total squared squared error\n",
    "    err = 0.0\n",
    "    for (i,j,Yij) in Y:\n",
    "        err += 0.5 *(Yij - np.dot(U[i-1], V[:,j-1]))**2\n",
    "    # Add error penalty due to regularization if regularization\n",
    "    # parameter is nonzero\n",
    "    if reg != 0:\n",
    "        U_frobenius_norm = np.linalg.norm(U, ord='fro')\n",
    "        V_frobenius_norm = np.linalg.norm(V, ord='fro')\n",
    "        err += 0.5 * reg * (U_frobenius_norm ** 2)\n",
    "        err += 0.5 * reg * (V_frobenius_norm ** 2)\n",
    "    # Return the mean of the regularized error\n",
    "    return err / float(len(Y))\n",
    "\n",
    "def train_model(M, N, K, eta, reg, Y, eps=0.0001, max_epochs=300):\n",
    "    \"\"\"\n",
    "    Given a training data matrix Y containing rows (i, j, Y_ij)\n",
    "    where Y_ij is user i's rating on movie j, learns an\n",
    "    M x K matrix U and N x K matrix V such that rating Y_ij is approximated\n",
    "    by (UV)_ij.\n",
    "\n",
    "    Uses a learning rate of <eta> and regularization of <reg>. Stops after\n",
    "    <max_epochs> epochs, or once the magnitude of the decrease in regularized\n",
    "    MSE between epochs is smaller than a fraction <eps> of the decrease in\n",
    "    MSE after the first epoch.\n",
    "\n",
    "    Returns a tuple (U, V, err) consisting of U, V, and the unregularized MSE\n",
    "    of the model.\n",
    "    \"\"\"\n",
    "    # Initialize U, V  \n",
    "    U = np.random.random((M,K)) - 0.5\n",
    "    V = np.random.random((K,N)) - 0.5\n",
    "    size = Y.shape[0]\n",
    "    delta = None\n",
    "    indices = np.arange(size)    \n",
    "    for epoch in range(max_epochs):\n",
    "        # Run an epoch of SGD\n",
    "        before_E_in = get_err(U, V, Y, reg)\n",
    "        np.random.shuffle(indices)\n",
    "        for ind in indices:\n",
    "            (i,j, Yij) = Y[ind]\n",
    "            # Update U[i], V[j]\n",
    "            U[i-1] = grad_U(U[i-1], Yij, V[:,j-1], reg, eta)\n",
    "            V[:,j-1] = grad_V(V[:,j-1], Yij, U[i-1], reg, eta);\n",
    "        # At end of epoch, print E_in\n",
    "        E_in = get_err(U, V, Y, reg)\n",
    "        print(\"Epoch %s, E_in (regularized MSE): %s\"%(epoch + 1, E_in))\n",
    "\n",
    "        # Compute change in E_in for first epoch\n",
    "        if epoch == 0:\n",
    "            delta = before_E_in - E_in\n",
    "\n",
    "        # If E_in doesn't decrease by some fraction <eps>\n",
    "        # of the initial decrease in E_in, stop early            \n",
    "        elif before_E_in - E_in < eps * delta:\n",
    "            break\n",
    "    return (U, V, get_err(U, V, Y))"
   ]
  },
  {
   "cell_type": "code",
   "execution_count": 4,
   "metadata": {
    "collapsed": false,
    "deletable": true,
    "editable": true
   },
   "outputs": [
    {
     "name": "stdout",
     "output_type": "stream",
     "text": [
      "Factorizing with  943  users,  1682  movies.\n"
     ]
    }
   ],
   "source": [
    "M = max(max(Y_train[:,0]), max(Y_test[:,0])).astype(int) # users\n",
    "N = max(max(Y_train[:,1]), max(Y_test[:,1])).astype(int) # movies\n",
    "print(\"Factorizing with \", M, \" users, \", N, \" movies.\")\n",
    "K = 20 \n",
    "regs = [10**-4, 10**-3, 10**-2, 10**-1, 1]\n",
    "eta = 0.03 # learning rate\n",
    "E_in = []\n",
    "E_out = []"
   ]
  },
  {
   "cell_type": "code",
   "execution_count": 5,
   "metadata": {
    "collapsed": false,
    "deletable": true,
    "editable": true
   },
   "outputs": [
    {
     "name": "stdout",
     "output_type": "stream",
     "text": [
      "Training model with M = 943, N = 1682, k = 20, eta = 0.03, reg = 0.0001\n",
      "Epoch 1, E_in (regularized MSE): 0.525808890138\n",
      "Epoch 2, E_in (regularized MSE): 0.395897617395\n",
      "Epoch 3, E_in (regularized MSE): 0.352492290482\n",
      "Epoch 4, E_in (regularized MSE): 0.326289665453\n",
      "Epoch 5, E_in (regularized MSE): 0.31189639124\n",
      "Epoch 6, E_in (regularized MSE): 0.296825977592\n",
      "Epoch 7, E_in (regularized MSE): 0.284580965501\n",
      "Epoch 8, E_in (regularized MSE): 0.276456165224\n",
      "Epoch 9, E_in (regularized MSE): 0.271007755727\n",
      "Epoch 10, E_in (regularized MSE): 0.266318913561\n",
      "Epoch 11, E_in (regularized MSE): 0.26141769602\n",
      "Epoch 12, E_in (regularized MSE): 0.262316154527\n",
      "Training model with M = 943, N = 1682, k = 20, eta = 0.03, reg = 0.001\n",
      "Epoch 1, E_in (regularized MSE): 0.531484829125\n",
      "Epoch 2, E_in (regularized MSE): 0.401413611364\n",
      "Epoch 3, E_in (regularized MSE): 0.358250208599\n",
      "Epoch 4, E_in (regularized MSE): 0.328793417566\n",
      "Epoch 5, E_in (regularized MSE): 0.31143232353\n",
      "Epoch 6, E_in (regularized MSE): 0.294947306748\n",
      "Epoch 7, E_in (regularized MSE): 0.283760396614\n",
      "Epoch 8, E_in (regularized MSE): 0.276475861801\n",
      "Epoch 9, E_in (regularized MSE): 0.267715028592\n",
      "Epoch 10, E_in (regularized MSE): 0.261229190891\n",
      "Epoch 11, E_in (regularized MSE): 0.255040821077\n",
      "Epoch 12, E_in (regularized MSE): 0.256134415995\n",
      "Training model with M = 943, N = 1682, k = 20, eta = 0.03, reg = 0.01\n",
      "Epoch 1, E_in (regularized MSE): 0.517395265547\n",
      "Epoch 2, E_in (regularized MSE): 0.399198128537\n",
      "Epoch 3, E_in (regularized MSE): 0.350362215055\n",
      "Epoch 4, E_in (regularized MSE): 0.323769754246\n",
      "Epoch 5, E_in (regularized MSE): 0.300436183169\n",
      "Epoch 6, E_in (regularized MSE): 0.285600180053\n",
      "Epoch 7, E_in (regularized MSE): 0.271800997272\n",
      "Epoch 8, E_in (regularized MSE): 0.260714266513\n",
      "Epoch 9, E_in (regularized MSE): 0.251381804552\n",
      "Epoch 10, E_in (regularized MSE): 0.24277777499\n",
      "Epoch 11, E_in (regularized MSE): 0.234043082751\n",
      "Epoch 12, E_in (regularized MSE): 0.2278400021\n",
      "Epoch 13, E_in (regularized MSE): 0.224169669985\n",
      "Epoch 14, E_in (regularized MSE): 0.217876123527\n",
      "Epoch 15, E_in (regularized MSE): 0.215950811955\n",
      "Epoch 16, E_in (regularized MSE): 0.210857522461\n",
      "Epoch 17, E_in (regularized MSE): 0.210005245137\n",
      "Epoch 18, E_in (regularized MSE): 0.206170472245\n",
      "Epoch 19, E_in (regularized MSE): 0.202958329513\n",
      "Epoch 20, E_in (regularized MSE): 0.203131548102\n",
      "Training model with M = 943, N = 1682, k = 20, eta = 0.03, reg = 0.1\n",
      "Epoch 1, E_in (regularized MSE): 0.510759619628\n",
      "Epoch 2, E_in (regularized MSE): 0.430069409374\n",
      "Epoch 3, E_in (regularized MSE): 0.404404423515\n",
      "Epoch 4, E_in (regularized MSE): 0.38735700289\n",
      "Epoch 5, E_in (regularized MSE): 0.377142319403\n",
      "Epoch 6, E_in (regularized MSE): 0.367187783857\n",
      "Epoch 7, E_in (regularized MSE): 0.359819036144\n",
      "Epoch 8, E_in (regularized MSE): 0.352983225883\n",
      "Epoch 9, E_in (regularized MSE): 0.343897449644\n",
      "Epoch 10, E_in (regularized MSE): 0.335123343691\n",
      "Epoch 11, E_in (regularized MSE): 0.333463424029\n",
      "Epoch 12, E_in (regularized MSE): 0.327214551614\n",
      "Epoch 13, E_in (regularized MSE): 0.320889725831\n",
      "Epoch 14, E_in (regularized MSE): 0.32048622189\n",
      "Training model with M = 943, N = 1682, k = 20, eta = 0.03, reg = 1\n",
      "Epoch 1, E_in (regularized MSE): 1.11977250327\n",
      "Epoch 2, E_in (regularized MSE): 1.03305154444\n",
      "Epoch 3, E_in (regularized MSE): 0.989778827476\n",
      "Epoch 4, E_in (regularized MSE): 0.98025266628\n",
      "Epoch 5, E_in (regularized MSE): 0.985355771061\n"
     ]
    }
   ],
   "source": [
    "for reg in regs:\n",
    "\n",
    "    print(\"Training model with M = %s, N = %s, k = %s, eta = %s, reg = %s\"%(M, N, K, eta, reg))\n",
    "    U,V, e_in = train_model(M, N, K, eta, reg, Y_train)\n",
    "    E_in.append(e_in)\n",
    "    eout = get_err(U, V, Y_test)\n",
    "    E_out.append(eout)"
   ]
  },
  {
   "cell_type": "code",
   "execution_count": 6,
   "metadata": {
    "collapsed": false,
    "deletable": true,
    "editable": true
   },
   "outputs": [
    {
     "data": {
      "image/png": "[encoded data removed]",
      "text/plain": [
       "<matplotlib.figure.Figure at 0x118b3dcc0>"
      ]
     },
     "metadata": {},
     "output_type": "display_data"
    }
   ],
   "source": [
    "plt.plot(regs, E_in, label='$E_{in}$')\n",
    "plt.plot(regs, E_out, label='$E_{out}$')\n",
    "plt.xscale('log')\n",
    "plt.title('Error vs. reg')\n",
    "plt.xlabel('reg')\n",
    "plt.ylabel('Error')\n",
    "plt.legend()\n",
    "plt.show()"
   ]
  },
  {
   "cell_type": "code",
   "execution_count": 7,
   "metadata": {
    "collapsed": false,
    "deletable": true,
    "editable": true
   },
   "outputs": [
    {
     "name": "stdout",
     "output_type": "stream",
     "text": [
      "Training model with M = 943, N = 1682, k = 20, eta = 0.03, reg = 0.06\n",
      "Epoch 1, E_in (regularized MSE): 0.508109036896\n",
      "Epoch 2, E_in (regularized MSE): 0.416707766461\n",
      "Epoch 3, E_in (regularized MSE): 0.379977712738\n",
      "Epoch 4, E_in (regularized MSE): 0.357065825376\n",
      "Epoch 5, E_in (regularized MSE): 0.338408847778\n",
      "Epoch 6, E_in (regularized MSE): 0.323101228985\n",
      "Epoch 7, E_in (regularized MSE): 0.309021241362\n",
      "Epoch 8, E_in (regularized MSE): 0.29777414585\n",
      "Epoch 9, E_in (regularized MSE): 0.290362539376\n",
      "Epoch 10, E_in (regularized MSE): 0.283109822721\n",
      "Epoch 11, E_in (regularized MSE): 0.275937986183\n",
      "Epoch 12, E_in (regularized MSE): 0.270600123944\n",
      "Epoch 13, E_in (regularized MSE): 0.261754656704\n",
      "Epoch 14, E_in (regularized MSE): 0.257854327749\n",
      "Epoch 15, E_in (regularized MSE): 0.255998255808\n",
      "Epoch 16, E_in (regularized MSE): 0.254796142618\n",
      "Epoch 17, E_in (regularized MSE): 0.248434893365\n",
      "Epoch 18, E_in (regularized MSE): 0.247404658358\n",
      "Epoch 19, E_in (regularized MSE): 0.245442577791\n",
      "Epoch 20, E_in (regularized MSE): 0.242513026121\n",
      "Epoch 21, E_in (regularized MSE): 0.241022369292\n",
      "Epoch 22, E_in (regularized MSE): 0.239032905503\n",
      "Epoch 23, E_in (regularized MSE): 0.23817765569\n",
      "Epoch 24, E_in (regularized MSE): 0.23528072555\n",
      "Epoch 25, E_in (regularized MSE): 0.234982943281\n",
      "Training model with M = 943, N = 1682, k = 20, eta = 0.03, reg = 0.08\n",
      "Epoch 1, E_in (regularized MSE): 0.50359857979\n",
      "Epoch 2, E_in (regularized MSE): 0.420998674988\n",
      "Epoch 3, E_in (regularized MSE): 0.390865556178\n",
      "Epoch 4, E_in (regularized MSE): 0.370588797927\n",
      "Epoch 5, E_in (regularized MSE): 0.35404079011\n",
      "Epoch 6, E_in (regularized MSE): 0.339792274471\n",
      "Epoch 7, E_in (regularized MSE): 0.329659496671\n",
      "Epoch 8, E_in (regularized MSE): 0.321769621969\n",
      "Epoch 9, E_in (regularized MSE): 0.312894361199\n",
      "Epoch 10, E_in (regularized MSE): 0.304854387497\n",
      "Epoch 11, E_in (regularized MSE): 0.304360512375\n",
      "Training model with M = 943, N = 1682, k = 20, eta = 0.03, reg = 0.1\n",
      "Epoch 1, E_in (regularized MSE): 0.511774425275\n",
      "Epoch 2, E_in (regularized MSE): 0.435699512401\n",
      "Epoch 3, E_in (regularized MSE): 0.411961951258\n",
      "Epoch 4, E_in (regularized MSE): 0.393922261081\n",
      "Epoch 5, E_in (regularized MSE): 0.378450613678\n",
      "Epoch 6, E_in (regularized MSE): 0.367159132481\n",
      "Epoch 7, E_in (regularized MSE): 0.35822540328\n",
      "Epoch 8, E_in (regularized MSE): 0.351059031006\n",
      "Epoch 9, E_in (regularized MSE): 0.338820789309\n",
      "Epoch 10, E_in (regularized MSE): 0.335441281806\n",
      "Epoch 11, E_in (regularized MSE): 0.334126303733\n",
      "Epoch 12, E_in (regularized MSE): 0.323913296029\n",
      "Epoch 13, E_in (regularized MSE): 0.324417093719\n",
      "Training model with M = 943, N = 1682, k = 20, eta = 0.03, reg = 0.12\n",
      "Epoch 1, E_in (regularized MSE): 0.509325146414\n",
      "Epoch 2, E_in (regularized MSE): 0.436849947384\n",
      "Epoch 3, E_in (regularized MSE): 0.413480310138\n",
      "Epoch 4, E_in (regularized MSE): 0.406794940955\n",
      "Epoch 5, E_in (regularized MSE): 0.39165725593\n",
      "Epoch 6, E_in (regularized MSE): 0.384822082255\n",
      "Epoch 7, E_in (regularized MSE): 0.379696782811\n",
      "Epoch 8, E_in (regularized MSE): 0.375863570528\n",
      "Epoch 9, E_in (regularized MSE): 0.366613171216\n",
      "Epoch 10, E_in (regularized MSE): 0.36210825083\n",
      "Epoch 11, E_in (regularized MSE): 0.35754095325\n",
      "Epoch 12, E_in (regularized MSE): 0.353622476272\n",
      "Epoch 13, E_in (regularized MSE): 0.350072256118\n",
      "Epoch 14, E_in (regularized MSE): 0.345279523379\n",
      "Epoch 15, E_in (regularized MSE): 0.342710285707\n",
      "Epoch 16, E_in (regularized MSE): 0.339210602014\n",
      "Epoch 17, E_in (regularized MSE): 0.340522114202\n",
      "Training model with M = 943, N = 1682, k = 20, eta = 0.03, reg = 0.14\n",
      "Epoch 1, E_in (regularized MSE): 0.520505755071\n",
      "Epoch 2, E_in (regularized MSE): 0.456755950762\n",
      "Epoch 3, E_in (regularized MSE): 0.439436526565\n",
      "Epoch 4, E_in (regularized MSE): 0.424966834268\n",
      "Epoch 5, E_in (regularized MSE): 0.416815678238\n",
      "Epoch 6, E_in (regularized MSE): 0.407414507476\n",
      "Epoch 7, E_in (regularized MSE): 0.401165595491\n",
      "Epoch 8, E_in (regularized MSE): 0.399796186674\n",
      "Epoch 9, E_in (regularized MSE): 0.397610715018\n",
      "Epoch 10, E_in (regularized MSE): 0.387676034576\n",
      "Epoch 11, E_in (regularized MSE): 0.38743248142\n"
     ]
    }
   ],
   "source": [
    "regs = [0.06, 0.08, 0.1, 0.12, 0.14]\n",
    "E_in2 = []\n",
    "E_out2 = []\n",
    "for reg in regs:\n",
    "\n",
    "    print(\"Training model with M = %s, N = %s, k = %s, eta = %s, reg = %s\"%(M, N, K, eta, reg))\n",
    "    U,V, e_in = train_model(M, N, K, eta, reg, Y_train)\n",
    "    E_in2.append(e_in)\n",
    "    eout = get_err(U, V, Y_test)\n",
    "    E_out2.append(eout)"
   ]
  },
  {
   "cell_type": "code",
   "execution_count": 8,
   "metadata": {
    "collapsed": false,
    "deletable": true,
    "editable": true
   },
   "outputs": [
    {
     "data": {
      "image/png": "[encoded data removed]",
      "text/plain": [
       "<matplotlib.figure.Figure at 0x119e07898>"
      ]
     },
     "metadata": {},
     "output_type": "display_data"
    }
   ],
   "source": [
    "plt.plot(regs, E_in2, label='$E_{in}$')\n",
    "plt.plot(regs, E_out2, label='$E_{out}$')\n",
    "plt.title('Error vs. reg')\n",
    "plt.xlabel('reg')\n",
    "plt.ylabel('Error')\n",
    "plt.legend()\n",
    "plt.show()"
   ]
  },
  {
   "cell_type": "code",
   "execution_count": 9,
   "metadata": {
    "collapsed": false,
    "deletable": true,
    "editable": true
   },
   "outputs": [
    {
     "name": "stdout",
     "output_type": "stream",
     "text": [
      "Training model with M = 943, N = 1682, k = 20, eta = 0.03, reg = 0.1\n",
      "Epoch 1, E_in (regularized MSE): 0.507613153134\n",
      "Epoch 2, E_in (regularized MSE): 0.431383746744\n",
      "Epoch 3, E_in (regularized MSE): 0.403596672445\n",
      "Epoch 4, E_in (regularized MSE): 0.389584301454\n",
      "Epoch 5, E_in (regularized MSE): 0.373985936767\n",
      "Epoch 6, E_in (regularized MSE): 0.363023959771\n",
      "Epoch 7, E_in (regularized MSE): 0.358724967524\n",
      "Epoch 8, E_in (regularized MSE): 0.34690065586\n",
      "Epoch 9, E_in (regularized MSE): 0.340836214044\n",
      "Epoch 10, E_in (regularized MSE): 0.333319537973\n",
      "Epoch 11, E_in (regularized MSE): 0.328067955947\n",
      "Epoch 12, E_in (regularized MSE): 0.327525709601\n",
      "Epoch 13, E_in (regularized MSE): 0.321027723108\n",
      "Epoch 14, E_in (regularized MSE): 0.31747382762\n",
      "Epoch 15, E_in (regularized MSE): 0.315592693907\n",
      "Epoch 16, E_in (regularized MSE): 0.310129959473\n",
      "Epoch 17, E_in (regularized MSE): 0.306726914975\n",
      "Epoch 18, E_in (regularized MSE): 0.305663119477\n",
      "Epoch 19, E_in (regularized MSE): 0.303501666784\n",
      "Epoch 20, E_in (regularized MSE): 0.301241032706\n",
      "Epoch 21, E_in (regularized MSE): 0.298130612848\n",
      "Epoch 22, E_in (regularized MSE): 0.299041282309\n",
      "Training model with M = 943, N = 1682, k = 20, eta = 0.03, reg = 0.1\n",
      "Epoch 1, E_in (regularized MSE): 0.505822229342\n",
      "Epoch 2, E_in (regularized MSE): 0.432949093473\n",
      "Epoch 3, E_in (regularized MSE): 0.407811555807\n",
      "Epoch 4, E_in (regularized MSE): 0.389333223943\n",
      "Epoch 5, E_in (regularized MSE): 0.374048912785\n",
      "Epoch 6, E_in (regularized MSE): 0.366091085346\n",
      "Epoch 7, E_in (regularized MSE): 0.36031009661\n",
      "Epoch 8, E_in (regularized MSE): 0.349298923364\n",
      "Epoch 9, E_in (regularized MSE): 0.342399292968\n",
      "Epoch 10, E_in (regularized MSE): 0.337116049646\n",
      "Epoch 11, E_in (regularized MSE): 0.329573793238\n",
      "Epoch 12, E_in (regularized MSE): 0.325858577337\n",
      "Epoch 13, E_in (regularized MSE): 0.320297033526\n",
      "Epoch 14, E_in (regularized MSE): 0.31914486668\n",
      "Epoch 15, E_in (regularized MSE): 0.315076470698\n",
      "Epoch 16, E_in (regularized MSE): 0.309642886906\n",
      "Epoch 17, E_in (regularized MSE): 0.308772016513\n",
      "Epoch 18, E_in (regularized MSE): 0.304983837175\n",
      "Epoch 19, E_in (regularized MSE): 0.303037018269\n",
      "Epoch 20, E_in (regularized MSE): 0.301115164014\n",
      "Epoch 21, E_in (regularized MSE): 0.300841923246\n",
      "Training model with M = 943, N = 1682, k = 20, eta = 0.03, reg = 0.1\n",
      "Epoch 1, E_in (regularized MSE): 0.508518087444\n",
      "Epoch 2, E_in (regularized MSE): 0.433114632021\n",
      "Epoch 3, E_in (regularized MSE): 0.407138462897\n",
      "Epoch 4, E_in (regularized MSE): 0.392792383492\n",
      "Epoch 5, E_in (regularized MSE): 0.374937567141\n",
      "Epoch 6, E_in (regularized MSE): 0.369851792109\n",
      "Training model with M = 943, N = 1682, k = 20, eta = 0.03, reg = 0.1\n",
      "Epoch 1, E_in (regularized MSE): 0.506645971249\n",
      "Epoch 2, E_in (regularized MSE): 0.433328927629\n",
      "Epoch 3, E_in (regularized MSE): 0.409667115835\n",
      "Training model with M = 943, N = 1682, k = 20, eta = 0.03, reg = 0.1\n",
      "Epoch 1, E_in (regularized MSE): 0.507085321442\n",
      "Epoch 2, E_in (regularized MSE): 0.431039651537\n",
      "Training model with M = 943, N = 1682, k = 20, eta = 0.03, reg = 0.1\n",
      "Epoch 1, E_in (regularized MSE): 0.510522088302\n",
      "Epoch 2, E_in (regularized MSE): 0.432707300611\n"
     ]
    }
   ],
   "source": [
    "eps = [10**-5, 10**-4, 10**-3, 10**-2, 10**-1, 1]\n",
    "reg = 0.1\n",
    "E_in3 = []\n",
    "E_out3 = []\n",
    "for ep in eps:\n",
    "\n",
    "    print(\"Training model with M = %s, N = %s, k = %s, eta = %s, reg = %s\"%(M, N, K, eta, reg))\n",
    "    U,V, e_in = train_model(M, N, K, eta, reg, Y_train, ep)\n",
    "    E_in3.append(e_in)\n",
    "    eout = get_err(U, V, Y_test)\n",
    "    E_out3.append(eout)"
   ]
  },
  {
   "cell_type": "code",
   "execution_count": 14,
   "metadata": {
    "collapsed": false,
    "deletable": true,
    "editable": true
   },
   "outputs": [
    {
     "data": {
      "image/png": "[encoded data removed]",
      "text/plain": [
       "<matplotlib.figure.Figure at 0x119e679b0>"
      ]
     },
     "metadata": {},
     "output_type": "display_data"
    }
   ],
   "source": [
    "plt.plot(eps, E_in3, label='$E_{in}$')\n",
    "plt.plot(eps, E_out3, label='$E_{out}$')\n",
    "plt.xscale('log')\n",
    "plt.title('Error vs. eps in train_model')\n",
    "plt.xlabel('eps')\n",
    "plt.ylabel('Error')\n",
    "plt.legend()\n",
    "plt.show()"
   ]
  },
  {
   "cell_type": "code",
   "execution_count": null,
   "metadata": {
    "collapsed": true,
    "deletable": true,
    "editable": true
   },
   "outputs": [],
   "source": []
  },
  {
   "cell_type": "code",
   "execution_count": null,
   "metadata": {
    "collapsed": true
   },
   "outputs": [],
   "source": []
  }
 ],
 "metadata": {
  "kernelspec": {
   "display_name": "Python 3",
   "language": "python",
   "name": "python3"
  },
  "language_info": {
   "codemirror_mode": {
    "name": "ipython",
    "version": 3
   },
   "file_extension": ".py",
   "mimetype": "text/x-python",
   "name": "python",
   "nbconvert_exporter": "python",
   "pygments_lexer": "ipython3",
   "version": "3.5.2"
  }
 },
 "nbformat": 4,
 "nbformat_minor": 2
}
