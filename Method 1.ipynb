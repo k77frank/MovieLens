{
 "cells": [
  {
   "cell_type": "code",
   "execution_count": 45,
   "metadata": {
    "collapsed": false
   },
   "outputs": [],
   "source": [
    "import numpy as np\n",
    "import matplotlib.pyplot as plt"
   ]
  },
  {
   "cell_type": "code",
   "execution_count": 46,
   "metadata": {
    "collapsed": true
   },
   "outputs": [],
   "source": [
    "Y_train = np.loadtxt('data/train.txt').astype(int)\n",
    "Y_test = np.loadtxt('data/test.txt').astype(int)"
   ]
  },
  {
   "cell_type": "code",
   "execution_count": 47,
   "metadata": {
    "collapsed": true
   },
   "outputs": [],
   "source": [
    "# Solution set for CS 155 Set 6, 2016/2017\n",
    "# Authors: Fabian Boemer, Sid Murching, Suraj Nair\n",
    "\n",
    "import numpy as np\n",
    "\n",
    "def grad_U(Ui, Yij, Vj, reg, eta):\n",
    "    \"\"\"\n",
    "    Takes as input Ui (the ith row of U), a training point Yij, the column\n",
    "    vector Vj (jth column of V^T), reg (the regularization parameter lambda),\n",
    "    and eta (the learning rate).\n",
    "\n",
    "    Returns the gradient of the regularized loss function with\n",
    "    respect to Ui multiplied by eta.\n",
    "    \"\"\"\n",
    "    return (1-reg*eta)*Ui + eta * Vj * (Yij - np.dot(Ui,Vj))     \n",
    "\n",
    "def grad_V(Vj, Yij, Ui, reg, eta):\n",
    "    \"\"\"\n",
    "    Takes as input the column vector Vj (jth column of V^T), a training point Yij,\n",
    "    Ui (the ith row of U), reg (the regularization parameter lambda),\n",
    "    and eta (the learning rate).\n",
    "\n",
    "    Returns the gradient of the regularized loss function with\n",
    "    respect to Vj multiplied by eta.\n",
    "    \"\"\"\n",
    "    return (1-reg*eta)*Vj + eta * Ui * (Yij - np.dot(Ui,Vj))\n",
    "\n",
    "def get_err(U, V, Y, reg=0.0):\n",
    "    \"\"\"\n",
    "    Takes as input a matrix Y of triples (i, j, Y_ij) where i is the index of a user,\n",
    "    j is the index of a movie, and Y_ij is user i's rating of movie j and\n",
    "    user/movie matrices U and V.\n",
    "\n",
    "    Returns the mean regularized squared-error of predictions made by\n",
    "    estimating Y_{ij} as the dot product of the ith row of U and the jth column of V^T.\n",
    "    \"\"\"\n",
    "    # Compute mean squared error on each data point in Y; include\n",
    "    # regularization penalty in error calculations.\n",
    "    # We first compute the total squared squared error\n",
    "    err = 0.0\n",
    "    for (i,j,Yij) in Y:\n",
    "        err += 0.5 *(Yij - np.dot(U[i-1], V[:,j-1]))**2\n",
    "    # Add error penalty due to regularization if regularization\n",
    "    # parameter is nonzero\n",
    "    if reg != 0:\n",
    "        U_frobenius_norm = np.linalg.norm(U, ord='fro')\n",
    "        V_frobenius_norm = np.linalg.norm(V, ord='fro')\n",
    "        err += 0.5 * reg * (U_frobenius_norm ** 2)\n",
    "        err += 0.5 * reg * (V_frobenius_norm ** 2)\n",
    "    # Return the mean of the regularized error\n",
    "    return err / float(len(Y))\n",
    "\n",
    "def train_model(M, N, K, eta, reg, Y, eps=0.0001, max_epochs=300):\n",
    "    \"\"\"\n",
    "    Given a training data matrix Y containing rows (i, j, Y_ij)\n",
    "    where Y_ij is user i's rating on movie j, learns an\n",
    "    M x K matrix U and N x K matrix V such that rating Y_ij is approximated\n",
    "    by (UV)_ij.\n",
    "\n",
    "    Uses a learning rate of <eta> and regularization of <reg>. Stops after\n",
    "    <max_epochs> epochs, or once the magnitude of the decrease in regularized\n",
    "    MSE between epochs is smaller than a fraction <eps> of the decrease in\n",
    "    MSE after the first epoch.\n",
    "\n",
    "    Returns a tuple (U, V, err) consisting of U, V, and the unregularized MSE\n",
    "    of the model.\n",
    "    \"\"\"\n",
    "    # Initialize U, V  \n",
    "    U = np.random.random((M,K)) - 0.5\n",
    "    V = np.random.random((K,N)) - 0.5\n",
    "    size = Y.shape[0]\n",
    "    delta = None\n",
    "    indices = np.arange(size)    \n",
    "    for epoch in range(max_epochs):\n",
    "        # Run an epoch of SGD\n",
    "        before_E_in = get_err(U, V, Y, reg)\n",
    "        np.random.shuffle(indices)\n",
    "        for ind in indices:\n",
    "            (i,j, Yij) = Y[ind]\n",
    "            # Update U[i], V[j]\n",
    "            U[i-1] = grad_U(U[i-1], Yij, V[:,j-1], reg, eta)\n",
    "            V[:,j-1] = grad_V(V[:,j-1], Yij, U[i-1], reg, eta);\n",
    "        # At end of epoch, print E_in\n",
    "        E_in = get_err(U, V, Y, reg)\n",
    "        print(\"Epoch %s, E_in (regularized MSE): %s\"%(epoch + 1, E_in))\n",
    "\n",
    "        # Compute change in E_in for first epoch\n",
    "        if epoch == 0:\n",
    "            delta = before_E_in - E_in\n",
    "\n",
    "        # If E_in doesn't decrease by some fraction <eps>\n",
    "        # of the initial decrease in E_in, stop early            \n",
    "        elif before_E_in - E_in < eps * delta:\n",
    "            break\n",
    "    return (U, V, get_err(U, V, Y))"
   ]
  },
  {
   "cell_type": "code",
   "execution_count": 48,
   "metadata": {
    "collapsed": false
   },
   "outputs": [
    {
     "name": "stdout",
     "output_type": "stream",
     "text": [
      "Factorizing with  943  users,  1682  movies.\n"
     ]
    }
   ],
   "source": [
    "M = max(max(Y_train[:,0]), max(Y_test[:,0])).astype(int) # users\n",
    "N = max(max(Y_train[:,1]), max(Y_test[:,1])).astype(int) # movies\n",
    "print(\"Factorizing with \", M, \" users, \", N, \" movies.\")\n",
    "K = 20 \n",
    "regs = [10**-4, 10**-3, 10**-2, 10**-1, 1]\n",
    "eta = 0.03 # learning rate\n",
    "E_in = []\n",
    "E_out = []"
   ]
  },
  {
   "cell_type": "code",
   "execution_count": 49,
   "metadata": {
    "collapsed": false
   },
   "outputs": [
    {
     "name": "stdout",
     "output_type": "stream",
     "text": [
      "Training model with M = 943, N = 1682, k = 20, eta = 0.03, reg = 0.0001\n",
      "Epoch 1, E_in (regularized MSE): 0.526585614252\n",
      "Epoch 2, E_in (regularized MSE): 0.398414948615\n",
      "Epoch 3, E_in (regularized MSE): 0.359601663347\n",
      "Epoch 4, E_in (regularized MSE): 0.332848485644\n",
      "Epoch 5, E_in (regularized MSE): 0.313587876846\n",
      "Epoch 6, E_in (regularized MSE): 0.300809990659\n",
      "Epoch 7, E_in (regularized MSE): 0.287667396683\n",
      "Epoch 8, E_in (regularized MSE): 0.277497984026\n",
      "Epoch 9, E_in (regularized MSE): 0.274520253056\n",
      "Epoch 10, E_in (regularized MSE): 0.267822991202\n",
      "Epoch 11, E_in (regularized MSE): 0.266942614551\n",
      "Epoch 12, E_in (regularized MSE): 0.263980977143\n",
      "Epoch 13, E_in (regularized MSE): 0.259273922119\n",
      "Epoch 14, E_in (regularized MSE): 0.254884176646\n",
      "Epoch 15, E_in (regularized MSE): 0.25489386009\n",
      "Training model with M = 943, N = 1682, k = 20, eta = 0.03, reg = 0.001\n",
      "Epoch 1, E_in (regularized MSE): 0.51975879086\n",
      "Epoch 2, E_in (regularized MSE): 0.402397490832\n",
      "Epoch 3, E_in (regularized MSE): 0.353972880938\n",
      "Epoch 4, E_in (regularized MSE): 0.329198734122\n",
      "Epoch 5, E_in (regularized MSE): 0.308690608754\n",
      "Epoch 6, E_in (regularized MSE): 0.295593826377\n",
      "Epoch 7, E_in (regularized MSE): 0.284327039909\n",
      "Epoch 8, E_in (regularized MSE): 0.275175806141\n",
      "Epoch 9, E_in (regularized MSE): 0.264923873767\n",
      "Epoch 10, E_in (regularized MSE): 0.261984771639\n",
      "Epoch 11, E_in (regularized MSE): 0.259449199391\n",
      "Epoch 12, E_in (regularized MSE): 0.253469308661\n",
      "Epoch 13, E_in (regularized MSE): 0.251216962889\n",
      "Epoch 14, E_in (regularized MSE): 0.246981505658\n",
      "Epoch 15, E_in (regularized MSE): 0.244725430236\n",
      "Epoch 16, E_in (regularized MSE): 0.243278947866\n",
      "Epoch 17, E_in (regularized MSE): 0.238008193553\n",
      "Epoch 18, E_in (regularized MSE): 0.236076998079\n",
      "Epoch 19, E_in (regularized MSE): 0.238982769595\n",
      "Training model with M = 943, N = 1682, k = 20, eta = 0.03, reg = 0.01\n",
      "Epoch 1, E_in (regularized MSE): 0.523730416399\n",
      "Epoch 2, E_in (regularized MSE): 0.398979602855\n",
      "Epoch 3, E_in (regularized MSE): 0.356876621366\n",
      "Epoch 4, E_in (regularized MSE): 0.328449480746\n",
      "Epoch 5, E_in (regularized MSE): 0.305461389121\n",
      "Epoch 6, E_in (regularized MSE): 0.287508296121\n",
      "Epoch 7, E_in (regularized MSE): 0.273154124467\n",
      "Epoch 8, E_in (regularized MSE): 0.263660563472\n",
      "Epoch 9, E_in (regularized MSE): 0.251785497006\n",
      "Epoch 10, E_in (regularized MSE): 0.24446196284\n",
      "Epoch 11, E_in (regularized MSE): 0.236163843552\n",
      "Epoch 12, E_in (regularized MSE): 0.228280265399\n",
      "Epoch 13, E_in (regularized MSE): 0.22667636367\n",
      "Epoch 14, E_in (regularized MSE): 0.219450897746\n",
      "Epoch 15, E_in (regularized MSE): 0.216636429618\n",
      "Epoch 16, E_in (regularized MSE): 0.215184134874\n",
      "Epoch 17, E_in (regularized MSE): 0.208699411936\n",
      "Epoch 18, E_in (regularized MSE): 0.206304016914\n",
      "Epoch 19, E_in (regularized MSE): 0.203350537611\n",
      "Epoch 20, E_in (regularized MSE): 0.200582847819\n",
      "Epoch 21, E_in (regularized MSE): 0.201973126379\n",
      "Training model with M = 943, N = 1682, k = 20, eta = 0.03, reg = 0.1\n",
      "Epoch 1, E_in (regularized MSE): 0.505312217858\n",
      "Epoch 2, E_in (regularized MSE): 0.430506324363\n",
      "Epoch 3, E_in (regularized MSE): 0.406768944852\n",
      "Epoch 4, E_in (regularized MSE): 0.389947737615\n",
      "Epoch 5, E_in (regularized MSE): 0.379697525582\n",
      "Epoch 6, E_in (regularized MSE): 0.367967661519\n",
      "Epoch 7, E_in (regularized MSE): 0.361663985431\n",
      "Epoch 8, E_in (regularized MSE): 0.351491856893\n",
      "Epoch 9, E_in (regularized MSE): 0.34813525893\n",
      "Epoch 10, E_in (regularized MSE): 0.334769143723\n",
      "Epoch 11, E_in (regularized MSE): 0.330990780905\n",
      "Epoch 12, E_in (regularized MSE): 0.330139170706\n",
      "Epoch 13, E_in (regularized MSE): 0.323399367937\n",
      "Epoch 14, E_in (regularized MSE): 0.32106476292\n",
      "Epoch 15, E_in (regularized MSE): 0.313372889222\n",
      "Epoch 16, E_in (regularized MSE): 0.310544259604\n",
      "Epoch 17, E_in (regularized MSE): 0.309353856542\n",
      "Epoch 18, E_in (regularized MSE): 0.307721543155\n",
      "Epoch 19, E_in (regularized MSE): 0.303400178982\n",
      "Epoch 20, E_in (regularized MSE): 0.303509921153\n",
      "Training model with M = 943, N = 1682, k = 20, eta = 0.03, reg = 1\n",
      "Epoch 1, E_in (regularized MSE): 1.10620699839\n",
      "Epoch 2, E_in (regularized MSE): 1.03184774507\n",
      "Epoch 3, E_in (regularized MSE): 0.993113856897\n",
      "Epoch 4, E_in (regularized MSE): 0.989637957187\n",
      "Epoch 5, E_in (regularized MSE): 0.984527261383\n",
      "Epoch 6, E_in (regularized MSE): 0.993596697081\n"
     ]
    }
   ],
   "source": [
    "for reg in regs:\n",
    "\n",
    "    print(\"Training model with M = %s, N = %s, k = %s, eta = %s, reg = %s\"%(M, N, K, eta, reg))\n",
    "    U,V, e_in = train_model(M, N, K, eta, reg, Y_train)\n",
    "    E_in.append(e_in)\n",
    "    eout = get_err(U, V, Y_test)\n",
    "    E_out.append(eout)"
   ]
  },
  {
   "cell_type": "code",
   "execution_count": 52,
   "metadata": {
    "collapsed": false
   },
   "outputs": [
    {
     "data": {
      "image/png": "[encoded data removed]",
      "text/plain": [
       "<matplotlib.figure.Figure at 0x11a0db7b8>"
      ]
     },
     "metadata": {},
     "output_type": "display_data"
    }
   ],
   "source": [
    "plt.plot(regs, E_in, label='$E_{in}$')\n",
    "plt.plot(regs, E_out, label='$E_{out}$')\n",
    "plt.xscale('log')\n",
    "plt.title('Error vs. reg')\n",
    "plt.xlabel('reg')\n",
    "plt.ylabel('Error')\n",
    "plt.legend()\n",
    "plt.show()"
   ]
  },
  {
   "cell_type": "code",
   "execution_count": 51,
   "metadata": {
    "collapsed": false
   },
   "outputs": [
    {
     "name": "stdout",
     "output_type": "stream",
     "text": [
      "Training model with M = 943, N = 1682, k = 20, eta = 0.03, reg = 0.06\n",
      "Epoch 1, E_in (regularized MSE): 0.502756380511\n",
      "Epoch 2, E_in (regularized MSE): 0.408979770908\n",
      "Epoch 3, E_in (regularized MSE): 0.368576066867\n",
      "Epoch 4, E_in (regularized MSE): 0.347871509052\n",
      "Epoch 5, E_in (regularized MSE): 0.331271503208\n",
      "Epoch 6, E_in (regularized MSE): 0.317245396269\n",
      "Epoch 7, E_in (regularized MSE): 0.305427360746\n",
      "Epoch 8, E_in (regularized MSE): 0.293190243406\n",
      "Epoch 9, E_in (regularized MSE): 0.285460632956\n",
      "Epoch 10, E_in (regularized MSE): 0.275072117285\n",
      "Epoch 11, E_in (regularized MSE): 0.270733603494\n",
      "Epoch 12, E_in (regularized MSE): 0.267265495767\n",
      "Epoch 13, E_in (regularized MSE): 0.263471666304\n",
      "Epoch 14, E_in (regularized MSE): 0.256276872092\n",
      "Epoch 15, E_in (regularized MSE): 0.250913224839\n",
      "Epoch 16, E_in (regularized MSE): 0.249935791491\n",
      "Epoch 17, E_in (regularized MSE): 0.248212972728\n",
      "Epoch 18, E_in (regularized MSE): 0.243791783187\n",
      "Epoch 19, E_in (regularized MSE): 0.24239162487\n",
      "Epoch 20, E_in (regularized MSE): 0.239778345165\n",
      "Epoch 21, E_in (regularized MSE): 0.236954125936\n",
      "Epoch 22, E_in (regularized MSE): 0.236791792598\n",
      "Training model with M = 943, N = 1682, k = 20, eta = 0.03, reg = 0.08\n",
      "Epoch 1, E_in (regularized MSE): 0.506966153935\n",
      "Epoch 2, E_in (regularized MSE): 0.425487354981\n",
      "Epoch 3, E_in (regularized MSE): 0.390695657278\n",
      "Epoch 4, E_in (regularized MSE): 0.372507480375\n",
      "Epoch 5, E_in (regularized MSE): 0.356529565962\n",
      "Epoch 6, E_in (regularized MSE): 0.341160449414\n",
      "Epoch 7, E_in (regularized MSE): 0.330592160467\n",
      "Epoch 8, E_in (regularized MSE): 0.320723189093\n",
      "Epoch 9, E_in (regularized MSE): 0.31248702788\n",
      "Epoch 10, E_in (regularized MSE): 0.308976667118\n",
      "Epoch 11, E_in (regularized MSE): 0.30010706296\n",
      "Epoch 12, E_in (regularized MSE): 0.29368128602\n",
      "Epoch 13, E_in (regularized MSE): 0.289412743598\n",
      "Epoch 14, E_in (regularized MSE): 0.286230571988\n",
      "Epoch 15, E_in (regularized MSE): 0.280347498984\n",
      "Epoch 16, E_in (regularized MSE): 0.278294254528\n",
      "Epoch 17, E_in (regularized MSE): 0.276523961547\n",
      "Epoch 18, E_in (regularized MSE): 0.275536223212\n",
      "Epoch 19, E_in (regularized MSE): 0.272115653353\n",
      "Epoch 20, E_in (regularized MSE): 0.268416211413\n",
      "Epoch 21, E_in (regularized MSE): 0.265079070522\n",
      "Epoch 22, E_in (regularized MSE): 0.265206151425\n",
      "Training model with M = 943, N = 1682, k = 20, eta = 0.03, reg = 0.1\n",
      "Epoch 1, E_in (regularized MSE): 0.505780237075\n",
      "Epoch 2, E_in (regularized MSE): 0.427970257173\n",
      "Epoch 3, E_in (regularized MSE): 0.410783981935\n",
      "Epoch 4, E_in (regularized MSE): 0.38934815107\n",
      "Epoch 5, E_in (regularized MSE): 0.376991976719\n",
      "Epoch 6, E_in (regularized MSE): 0.36872784872\n",
      "Epoch 7, E_in (regularized MSE): 0.356493358596\n",
      "Epoch 8, E_in (regularized MSE): 0.34949567368\n",
      "Epoch 9, E_in (regularized MSE): 0.344004597016\n",
      "Epoch 10, E_in (regularized MSE): 0.337575183706\n",
      "Epoch 11, E_in (regularized MSE): 0.333362729016\n",
      "Epoch 12, E_in (regularized MSE): 0.32903149516\n",
      "Epoch 13, E_in (regularized MSE): 0.323674388568\n",
      "Epoch 14, E_in (regularized MSE): 0.318392347339\n",
      "Epoch 15, E_in (regularized MSE): 0.314778093839\n",
      "Epoch 16, E_in (regularized MSE): 0.313755675469\n",
      "Epoch 17, E_in (regularized MSE): 0.309438875911\n",
      "Epoch 18, E_in (regularized MSE): 0.308861729105\n",
      "Training model with M = 943, N = 1682, k = 20, eta = 0.03, reg = 0.12\n",
      "Epoch 1, E_in (regularized MSE): 0.508612018787\n",
      "Epoch 2, E_in (regularized MSE): 0.436670277146\n",
      "Epoch 3, E_in (regularized MSE): 0.41936868743\n",
      "Epoch 4, E_in (regularized MSE): 0.40480898811\n",
      "Epoch 5, E_in (regularized MSE): 0.394069946763\n",
      "Epoch 6, E_in (regularized MSE): 0.390177841102\n",
      "Epoch 7, E_in (regularized MSE): 0.382669396207\n",
      "Epoch 8, E_in (regularized MSE): 0.379343352354\n",
      "Epoch 9, E_in (regularized MSE): 0.369485238425\n",
      "Epoch 10, E_in (regularized MSE): 0.364965576861\n",
      "Epoch 11, E_in (regularized MSE): 0.358961801433\n",
      "Epoch 12, E_in (regularized MSE): 0.354873226764\n",
      "Epoch 13, E_in (regularized MSE): 0.350916349743\n",
      "Epoch 14, E_in (regularized MSE): 0.351875516117\n",
      "Training model with M = 943, N = 1682, k = 20, eta = 0.03, reg = 0.14\n",
      "Epoch 1, E_in (regularized MSE): 0.519415818136\n",
      "Epoch 2, E_in (regularized MSE): 0.452441756764\n",
      "Epoch 3, E_in (regularized MSE): 0.433466628259\n",
      "Epoch 4, E_in (regularized MSE): 0.421078289518\n",
      "Epoch 5, E_in (regularized MSE): 0.414161293839\n",
      "Epoch 6, E_in (regularized MSE): 0.414968817698\n"
     ]
    }
   ],
   "source": [
    "regs = [0.06, 0.08, 0.1, 0.12, 0.14]\n",
    "E_in2 = []\n",
    "E_out2 = []\n",
    "for reg in regs:\n",
    "\n",
    "    print(\"Training model with M = %s, N = %s, k = %s, eta = %s, reg = %s\"%(M, N, K, eta, reg))\n",
    "    U,V, e_in = train_model(M, N, K, eta, reg, Y_train)\n",
    "    E_in2.append(e_in)\n",
    "    eout = get_err(U, V, Y_test)\n",
    "    E_out2.append(eout)"
   ]
  },
  {
   "cell_type": "code",
   "execution_count": 38,
   "metadata": {
    "collapsed": false
   },
   "outputs": [
    {
     "data": {
      "image/png": "[encoded data removed]",
      "text/plain": [
       "<matplotlib.figure.Figure at 0x119e2d400>"
      ]
     },
     "metadata": {},
     "output_type": "display_data"
    }
   ],
   "source": [
    "plt.plot(regs, E_in2, label='$E_{in}$')\n",
    "plt.plot(regs, E_out2, label='$E_{out}$')\n",
    "plt.title('Error vs. reg')\n",
    "plt.xlabel('reg')\n",
    "plt.ylabel('Error')\n",
    "plt.legend()\n",
    "plt.show()"
   ]
  },
  {
   "cell_type": "code",
   "execution_count": 53,
   "metadata": {
    "collapsed": false
   },
   "outputs": [
    {
     "name": "stdout",
     "output_type": "stream",
     "text": [
      "Training model with M = 943, N = 1682, k = 20, eta = 0.03, reg = 0.1\n",
      "Epoch 1, E_in (regularized MSE): 0.511922666466\n",
      "Epoch 2, E_in (regularized MSE): 0.439934620184\n",
      "Epoch 3, E_in (regularized MSE): 0.412059005934\n",
      "Epoch 4, E_in (regularized MSE): 0.392869175915\n",
      "Epoch 5, E_in (regularized MSE): 0.382229359267\n",
      "Epoch 6, E_in (regularized MSE): 0.371073714078\n",
      "Epoch 7, E_in (regularized MSE): 0.361367734242\n",
      "Epoch 8, E_in (regularized MSE): 0.350036324966\n",
      "Epoch 9, E_in (regularized MSE): 0.344113684382\n",
      "Epoch 10, E_in (regularized MSE): 0.336194081242\n",
      "Epoch 11, E_in (regularized MSE): 0.330932234217\n",
      "Epoch 12, E_in (regularized MSE): 0.323199858624\n",
      "Epoch 13, E_in (regularized MSE): 0.319107881405\n",
      "Epoch 14, E_in (regularized MSE): 0.316294083585\n",
      "Epoch 15, E_in (regularized MSE): 0.313901642273\n",
      "Epoch 16, E_in (regularized MSE): 0.31029607939\n",
      "Epoch 17, E_in (regularized MSE): 0.307424561365\n",
      "Epoch 18, E_in (regularized MSE): 0.304084802846\n",
      "Epoch 19, E_in (regularized MSE): 0.30173822338\n",
      "Epoch 20, E_in (regularized MSE): 0.300549330957\n",
      "Epoch 21, E_in (regularized MSE): 0.296256830638\n",
      "Epoch 22, E_in (regularized MSE): 0.295279733262\n",
      "Epoch 23, E_in (regularized MSE): 0.29366218672\n",
      "Epoch 24, E_in (regularized MSE): 0.294036040479\n",
      "Training model with M = 943, N = 1682, k = 20, eta = 0.03, reg = 0.1\n",
      "Epoch 1, E_in (regularized MSE): 0.510099959814\n",
      "Epoch 2, E_in (regularized MSE): 0.435957852153\n",
      "Epoch 3, E_in (regularized MSE): 0.410609012159\n",
      "Epoch 4, E_in (regularized MSE): 0.390285888662\n",
      "Epoch 5, E_in (regularized MSE): 0.377576492771\n",
      "Epoch 6, E_in (regularized MSE): 0.36487370229\n",
      "Epoch 7, E_in (regularized MSE): 0.355025873154\n",
      "Epoch 8, E_in (regularized MSE): 0.348330426933\n",
      "Epoch 9, E_in (regularized MSE): 0.340988725906\n",
      "Epoch 10, E_in (regularized MSE): 0.334505082878\n",
      "Epoch 11, E_in (regularized MSE): 0.330666173297\n",
      "Epoch 12, E_in (regularized MSE): 0.32625015291\n",
      "Epoch 13, E_in (regularized MSE): 0.319833029768\n",
      "Epoch 14, E_in (regularized MSE): 0.316908193757\n",
      "Epoch 15, E_in (regularized MSE): 0.315224498963\n",
      "Epoch 16, E_in (regularized MSE): 0.312120865727\n",
      "Epoch 17, E_in (regularized MSE): 0.306988583082\n",
      "Epoch 18, E_in (regularized MSE): 0.302774395705\n",
      "Epoch 19, E_in (regularized MSE): 0.302587103244\n",
      "Training model with M = 943, N = 1682, k = 20, eta = 0.03, reg = 0.1\n",
      "Epoch 1, E_in (regularized MSE): 0.505833484184\n",
      "Epoch 2, E_in (regularized MSE): 0.428921948092\n",
      "Epoch 3, E_in (regularized MSE): 0.403410272796\n",
      "Epoch 4, E_in (regularized MSE): 0.39132402307\n",
      "Epoch 5, E_in (regularized MSE): 0.376191814622\n",
      "Epoch 6, E_in (regularized MSE): 0.363651256611\n",
      "Epoch 7, E_in (regularized MSE): 0.355396418735\n",
      "Epoch 8, E_in (regularized MSE): 0.345226779605\n",
      "Epoch 9, E_in (regularized MSE): 0.342615480285\n",
      "Training model with M = 943, N = 1682, k = 20, eta = 0.03, reg = 0.1\n",
      "Epoch 1, E_in (regularized MSE): 0.512816520697\n",
      "Epoch 2, E_in (regularized MSE): 0.435605010104\n",
      "Epoch 3, E_in (regularized MSE): 0.406939164884\n",
      "Training model with M = 943, N = 1682, k = 20, eta = 0.03, reg = 0.1\n",
      "Epoch 1, E_in (regularized MSE): 0.505832025493\n",
      "Epoch 2, E_in (regularized MSE): 0.431186644317\n",
      "Training model with M = 943, N = 1682, k = 20, eta = 0.03, reg = 0.1\n",
      "Epoch 1, E_in (regularized MSE): 0.511583499314\n",
      "Epoch 2, E_in (regularized MSE): 0.438280121552\n"
     ]
    }
   ],
   "source": [
    "eps = [10**-5, 10**-4, 10**-3, 10**-2, 10**-1, 1]\n",
    "reg = 0.1\n",
    "E_in3 = []\n",
    "E_out3 = []\n",
    "for ep in eps:\n",
    "\n",
    "    print(\"Training model with M = %s, N = %s, k = %s, eta = %s, reg = %s\"%(M, N, K, eta, reg))\n",
    "    U,V, e_in = train_model(M, N, K, eta, reg, Y_train, ep)\n",
    "    E_in3.append(e_in)\n",
    "    eout = get_err(U, V, Y_test)\n",
    "    E_out3.append(eout)"
   ]
  },
  {
   "cell_type": "code",
   "execution_count": 55,
   "metadata": {
    "collapsed": false
   },
   "outputs": [
    {
     "data": {
      "image/png": "[encoded data removed]",
      "text/plain": [
       "<matplotlib.figure.Figure at 0x119089b70>"
      ]
     },
     "metadata": {},
     "output_type": "display_data"
    }
   ],
   "source": [
    "plt.plot(regs, E_in2, label='$E_{in}$')\n",
    "plt.plot(regs, E_out2, label='$E_{out}$')\n",
    "plt.xscale('log')\n",
    "plt.title('Error vs. eps in train_model')\n",
    "plt.xlabel('eps')\n",
    "plt.ylabel('Error')\n",
    "plt.legend()\n",
    "plt.show()"
   ]
  },
  {
   "cell_type": "code",
   "execution_count": null,
   "metadata": {
    "collapsed": true
   },
   "outputs": [],
   "source": []
  }
 ],
 "metadata": {
  "kernelspec": {
   "display_name": "Python 3",
   "language": "python",
   "name": "python3"
  },
  "language_info": {
   "codemirror_mode": {
    "name": "ipython",
    "version": 3
   },
   "file_extension": ".py",
   "mimetype": "text/x-python",
   "name": "python",
   "nbconvert_exporter": "python",
   "pygments_lexer": "ipython3",
   "version": "3.5.2"
  }
 },
 "nbformat": 4,
 "nbformat_minor": 2
}
